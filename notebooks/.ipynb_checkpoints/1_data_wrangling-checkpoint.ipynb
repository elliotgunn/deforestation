{
 "cells": [
  {
   "cell_type": "code",
   "execution_count": 6,
   "metadata": {
    "colab": {
     "base_uri": "https://localhost:8080/",
     "height": 224
    },
    "colab_type": "code",
    "id": "Z2QXIxI4QmRx",
    "outputId": "5a00ce95-a83a-49ba-9131-e97af21831ab"
   },
   "outputs": [],
   "source": [
    "import pandas as pd\n",
    "import numpy as np\n",
    "import os\n",
    "import csv\n",
    "from sklearn.linear_model import LinearRegression\n",
    "\n",
    "pd.set_option('display.float_format', lambda x: '%.2f' % x)\n",
    "pd.set_option('display.max_columns', 500)"
   ]
  },
  {
   "cell_type": "markdown",
   "metadata": {},
   "source": [
    "# Create Deforestation DF, 1990-2016"
   ]
  },
  {
   "cell_type": "markdown",
   "metadata": {},
   "source": [
    "## 1. Read in data, wrangle all dataframes"
   ]
  },
  {
   "cell_type": "code",
   "execution_count": 7,
   "metadata": {
    "colab": {},
    "colab_type": "code",
    "id": "rCjEVHihRjET"
   },
   "outputs": [],
   "source": [
    "def wrangle(df):\n",
    "  '''\n",
    "  A function that reformats the World Bank data\n",
    "  for feature engineering.\n",
    "  '''\n",
    "\n",
    "  # drop years between 1960-1989\n",
    "  df.drop(df.iloc[:, 3:34], inplace=True, axis=1)\n",
    "  \n",
    "  # drop 2017-2018 as NANs\n",
    "  df = df.drop(columns=['2017', '2018'])\n",
    "  \n",
    "  # deal with nulls\n",
    "  for col in df.select_dtypes(include=np.number):\n",
    "    df[col] = df[col].fillna(df[col].median())\n",
    "   \n",
    "  # melt\n",
    "  year = map(str, range(1990, 2017))\n",
    "  feature = df.iloc[0][2]\n",
    "  df = pd.concat([pd.melt(df, id_vars=['Country Name', 'Country Code'], value_vars=val, var_name='Year', value_name=feature) for val in year])\n",
    "  \n",
    "  return(df)"
   ]
  },
  {
   "cell_type": "code",
   "execution_count": 8,
   "metadata": {
    "colab": {},
    "colab_type": "code",
    "id": "ZHvd3yBzgXfm"
   },
   "outputs": [],
   "source": [
    "# import the target dataframe from /raw_data/target\n",
    "\n",
    "# change directory\n",
    "os.chdir('/Users/elliotgunn/Desktop/Lambda/deforestation/raw_data/target')\n",
    "\n",
    "# list files\n",
    "path = os.getcwd()\n",
    "files = os.listdir(path)\n",
    "\n",
    "# Pick out 'csv' files for features\n",
    "target_csv = [f for f in files if f[-3:] == 'csv']\n",
    "target_csv\n",
    "\n",
    "# read\n",
    "forest_pct = pd.read_csv(target_csv[0], skiprows=3)\n",
    "\n",
    "# wrangle\n",
    "forest_pct = wrangle(forest_pct)"
   ]
  },
  {
   "cell_type": "code",
   "execution_count": 9,
   "metadata": {
    "colab": {},
    "colab_type": "code",
    "id": "2mpDl95mSmNZ"
   },
   "outputs": [],
   "source": [
    "# import 6 feature dataframes from /raw_data/features\n",
    "\n",
    "# change directory\n",
    "os.chdir('/Users/elliotgunn/Desktop/Lambda/deforestation/raw_data/features')\n",
    "\n",
    "# list files\n",
    "path = os.getcwd()\n",
    "files = os.listdir(path)\n",
    "\n",
    "# Pick out 'csv' files for features\n",
    "features_csv = [f for f in files if f[-3:] == 'csv']\n",
    "features_csv\n",
    "\n",
    "# read in features\n",
    "gdp = pd.read_csv(features_csv[0], skiprows=3)\n",
    "urban_population = pd.read_csv(features_csv[1], skiprows=3)\n",
    "agriculture = pd.read_csv(features_csv[2], skiprows=3)\n",
    "livestock = pd.read_csv(features_csv[3], skiprows=3)\n",
    "electricity = pd.read_csv(features_csv[4], skiprows=3)\n",
    "mining = pd.read_csv(features_csv[5], skiprows=3)\n",
    "\n",
    "# wrangle features\n",
    "gdp = wrangle(gdp)\n",
    "urban_population = wrangle(urban_population)\n",
    "agriculture = wrangle(agriculture)\n",
    "livestock = wrangle(livestock)\n",
    "electricity = wrangle(electricity)\n",
    "mining = wrangle(mining)\n",
    "\n",
    "# create list of dfs\n",
    "feature_dfs = [gdp, urban_population, agriculture, livestock, electricity, mining]"
   ]
  },
  {
   "cell_type": "markdown",
   "metadata": {
    "colab": {},
    "colab_type": "code",
    "id": "gmO6JDU-V6CN"
   },
   "source": [
    "## 2. Merge features and target"
   ]
  },
  {
   "cell_type": "code",
   "execution_count": 10,
   "metadata": {
    "colab": {},
    "colab_type": "code",
    "id": "uTfD38WacdGc"
   },
   "outputs": [],
   "source": [
    "def merge_features(list_dfs):\n",
    "  '''\n",
    "  A function that takes tidy dataframes across all features\n",
    "  and merges them.\n",
    "  \n",
    "  Returns in tidy format.\n",
    "  '''\n",
    "  \n",
    "  # use as base for merging\n",
    "  base = list_dfs.pop(0)\n",
    "  \n",
    "  for df in list_dfs:\n",
    "    base = base.merge(df, on=['Country Name', 'Country Code', 'Year'])\n",
    "  \n",
    "    merged = base\n",
    "  return(merged)"
   ]
  },
  {
   "cell_type": "code",
   "execution_count": 11,
   "metadata": {
    "colab": {},
    "colab_type": "code",
    "id": "B0ix6l3Fdsnd"
   },
   "outputs": [],
   "source": [
    "features = merge_features(feature_dfs)"
   ]
  },
  {
   "cell_type": "code",
   "execution_count": 12,
   "metadata": {
    "colab": {
     "base_uri": "https://localhost:8080/",
     "height": 309
    },
    "colab_type": "code",
    "id": "cVm57Sa4i-9-",
    "outputId": "f036d84f-6d15-4d1d-c167-18462fed2915"
   },
   "outputs": [
    {
     "data": {
      "text/plain": [
       "(7128, 10)"
      ]
     },
     "execution_count": 12,
     "metadata": {},
     "output_type": "execute_result"
    }
   ],
   "source": [
    "# merge features and forest_pct (target)\n",
    "\n",
    "merged_1990_2016 = features.merge(forest_pct, on=['Country Name', 'Country Code', 'Year'])\n",
    "\n",
    "merged_1990_2016.shape"
   ]
  },
  {
   "cell_type": "code",
   "execution_count": 13,
   "metadata": {},
   "outputs": [],
   "source": [
    "# export as csv\n",
    "\n",
    "# change directory\n",
    "os.chdir('/Users/elliotgunn/Desktop/Lambda/deforestation/wrangled_data')\n",
    "\n",
    "merged_1990_2016.to_csv(r'/Users/elliotgunn/Desktop/Lambda/deforestation/wrangled_data/merged_1990_2016.csv')"
   ]
  },
  {
   "cell_type": "markdown",
   "metadata": {},
   "source": [
    "# Feature Engineering: Create Forecast Dataframe for Features, 2017-2025"
   ]
  },
  {
   "cell_type": "code",
   "execution_count": 14,
   "metadata": {
    "colab": {},
    "colab_type": "code",
    "id": "P70Axeb_SZuf"
   },
   "outputs": [],
   "source": [
    "def extend_df(df):\n",
    "  '''\n",
    "  A function that takes wrangled data in tidy format and extends predictions \n",
    "  of the wrangled dataframe from 2017-2025.\n",
    "  \n",
    "  '''\n",
    "  # Preparing linear regression to make predictions for each country...\n",
    "  model = LinearRegression()\n",
    "  \n",
    "  # Getting list of country codes...\n",
    "  codes = df['Country Code'].unique()\n",
    "  \n",
    "  # Getting list of years where we will predict forest coverage...\n",
    "  years = [year for year in range(2017, 2026)]\n",
    "  \n",
    "  # For-loop to make predictions for each country with first dataset...\n",
    "  rows = []\n",
    "  feature = df.columns.tolist()[3]\n",
    "  \n",
    "  for code in codes:\n",
    "      dictionary = {'Country Code': code}\n",
    "      model.fit(df[df['Country Code'] == code][['Year']],\n",
    "                df[df['Country Code'] == code][feature])\n",
    "      for year in years:\n",
    "          prediction = model.predict([[year]])\n",
    "          dictionary[str(year)] = prediction[0]\n",
    "      rows.append(dictionary)\n",
    "  \n",
    "  # Making a new dataframe out of the predictions for the first dataset...\n",
    "  df_predictions = pd.DataFrame(rows)\n",
    "  \n",
    "  # Reordering the columns in the dataframe for the first dataset...\n",
    "  df_predictions = df_predictions[\n",
    "      ['Country Code'] + [str(year) for year in years]]\n",
    "  \n",
    "  \n",
    "  # melt df_predictions to tidy format\n",
    "  year = map(str, range(2017, 2026))\n",
    "  df_predictions = pd.concat([pd.melt(df_predictions, id_vars=['Country Code'], value_vars=val, var_name='Year', value_name=feature) for val in year])\n",
    "\n",
    "  return(df_predictions)"
   ]
  },
  {
   "cell_type": "code",
   "execution_count": 15,
   "metadata": {},
   "outputs": [],
   "source": [
    "# import 6 feature dataframes from /raw_data/features\n",
    "\n",
    "# change directory\n",
    "os.chdir('/Users/elliotgunn/Desktop/Lambda/deforestation/raw_data/features')\n",
    "\n",
    "# list files\n",
    "path = os.getcwd()\n",
    "files = os.listdir(path)\n",
    "\n",
    "# Pick out 'csv' files for features\n",
    "features_csv = [f for f in files if f[-3:] == 'csv']\n",
    "features_csv\n",
    "\n",
    "# read in features\n",
    "gdp = pd.read_csv(features_csv[0], skiprows=3)\n",
    "urban_population = pd.read_csv(features_csv[1], skiprows=3)\n",
    "agriculture = pd.read_csv(features_csv[2], skiprows=3)\n",
    "livestock = pd.read_csv(features_csv[3], skiprows=3)\n",
    "electricity = pd.read_csv(features_csv[4], skiprows=3)\n",
    "mining = pd.read_csv(features_csv[5], skiprows=3)\n",
    "\n",
    "# wrangle features\n",
    "gdp = wrangle(gdp)\n",
    "urban_population = wrangle(urban_population)\n",
    "agriculture = wrangle(agriculture)\n",
    "livestock = wrangle(livestock)\n",
    "electricity = wrangle(electricity)\n",
    "mining = wrangle(mining)\n",
    "\n",
    "# extend features\n",
    "gdp = extend_df(gdp)\n",
    "urban_population = extend_df(urban_population)\n",
    "agriculture = extend_df(agriculture)\n",
    "livestock = extend_df(livestock)\n",
    "electricity = extend_df(electricity)\n",
    "mining = extend_df(mining)\n",
    "\n",
    "# create list of dfs\n",
    "feature_dfs_pred = [gdp, urban_population, agriculture, livestock, electricity, mining]"
   ]
  },
  {
   "cell_type": "code",
   "execution_count": 16,
   "metadata": {
    "colab": {},
    "colab_type": "code",
    "id": "ZzxzKqrVfaUj"
   },
   "outputs": [],
   "source": [
    "def merge_pred_features(list_dfs_pred):\n",
    "  '''\n",
    "  A function that takes predicted dataframes across all features\n",
    "  and merges them.\n",
    "  \n",
    "  Returns a dataframe in tidy format.\n",
    "  \n",
    "  ''' \n",
    "  # create base df for merging, call it \"test\"\n",
    "  test = list_dfs_pred.pop(0)\n",
    "  \n",
    "  for df in list_dfs_pred:\n",
    "    test = test.merge(df, on=['Country Code', 'Year'])\n",
    "    \n",
    "  return(test)"
   ]
  },
  {
   "cell_type": "code",
   "execution_count": 19,
   "metadata": {
    "colab": {},
    "colab_type": "code",
    "id": "qQUBC5gEfE35"
   },
   "outputs": [],
   "source": [
    "merged_features_only_2017_2025 = merge_pred_features(feature_dfs_pred)"
   ]
  },
  {
   "cell_type": "code",
   "execution_count": 21,
   "metadata": {},
   "outputs": [],
   "source": [
    "merged_features_only_2017_2025.to_csv(r'/Users/elliotgunn/Desktop/Lambda/deforestation/wrangled_data/merged_features_only_2017_2025.csv')\n"
   ]
  }
 ],
 "metadata": {
  "colab": {
   "collapsed_sections": [],
   "name": "Copy of Untitled7.ipynb",
   "provenance": []
  },
  "kernelspec": {
   "display_name": "Python 3",
   "language": "python",
   "name": "python3"
  },
  "language_info": {
   "codemirror_mode": {
    "name": "ipython",
    "version": 3
   },
   "file_extension": ".py",
   "mimetype": "text/x-python",
   "name": "python",
   "nbconvert_exporter": "python",
   "pygments_lexer": "ipython3",
   "version": "3.7.4"
  }
 },
 "nbformat": 4,
 "nbformat_minor": 1
}
